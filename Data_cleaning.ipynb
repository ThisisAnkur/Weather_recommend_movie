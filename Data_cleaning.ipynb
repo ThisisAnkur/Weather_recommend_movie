{
 "cells": [
  {
   "cell_type": "code",
   "execution_count": 1,
   "id": "9598eec8",
   "metadata": {},
   "outputs": [],
   "source": [
    "import pandas as pd\n",
    "import numpy as np\n",
    "import re"
   ]
  },
  {
   "cell_type": "code",
   "execution_count": 2,
   "id": "efea021a",
   "metadata": {},
   "outputs": [],
   "source": [
    "# Handle the scrap data and organize according our need\n",
    "df = pd.read_csv('movie_data.csv')"
   ]
  },
  {
   "cell_type": "code",
   "execution_count": 3,
   "id": "f18026cd",
   "metadata": {},
   "outputs": [
    {
     "data": {
      "text/html": [
       "<div>\n",
       "<style scoped>\n",
       "    .dataframe tbody tr th:only-of-type {\n",
       "        vertical-align: middle;\n",
       "    }\n",
       "\n",
       "    .dataframe tbody tr th {\n",
       "        vertical-align: top;\n",
       "    }\n",
       "\n",
       "    .dataframe thead th {\n",
       "        text-align: right;\n",
       "    }\n",
       "</style>\n",
       "<table border=\"1\" class=\"dataframe\">\n",
       "  <thead>\n",
       "    <tr style=\"text-align: right;\">\n",
       "      <th></th>\n",
       "      <th>Unnamed: 0</th>\n",
       "      <th>Title</th>\n",
       "      <th>Year</th>\n",
       "      <th>Genre</th>\n",
       "      <th>Certificate</th>\n",
       "      <th>Rating</th>\n",
       "      <th>Votes</th>\n",
       "      <th>Description</th>\n",
       "      <th>Lead</th>\n",
       "      <th>Director</th>\n",
       "      <th>Gross</th>\n",
       "      <th>Weather</th>\n",
       "    </tr>\n",
       "  </thead>\n",
       "  <tbody>\n",
       "    <tr>\n",
       "      <th>0</th>\n",
       "      <td>0</td>\n",
       "      <td>Indiana Jones and the Dial of Destiny</td>\n",
       "      <td>(2023)</td>\n",
       "      <td>Action, Adventure</td>\n",
       "      <td>UA</td>\n",
       "      <td>6.9</td>\n",
       "      <td>68799</td>\n",
       "      <td>Archaeologist Indiana Jones races against time...</td>\n",
       "      <td>NaN</td>\n",
       "      <td>James Mangold</td>\n",
       "      <td>NaN</td>\n",
       "      <td>Rain</td>\n",
       "    </tr>\n",
       "    <tr>\n",
       "      <th>1</th>\n",
       "      <td>1</td>\n",
       "      <td>The Flash</td>\n",
       "      <td>(2023)</td>\n",
       "      <td>Action, Adventure, Fantasy</td>\n",
       "      <td>UA</td>\n",
       "      <td>7.1</td>\n",
       "      <td>87832</td>\n",
       "      <td>Barry Allen uses his super speed to change the...</td>\n",
       "      <td>NaN</td>\n",
       "      <td>Andy Muschietti</td>\n",
       "      <td>NaN</td>\n",
       "      <td>Rain</td>\n",
       "    </tr>\n",
       "    <tr>\n",
       "      <th>2</th>\n",
       "      <td>2</td>\n",
       "      <td>John Wick: Chapter 4</td>\n",
       "      <td>(2023)</td>\n",
       "      <td>Action, Crime, Thriller</td>\n",
       "      <td>A</td>\n",
       "      <td>7.9</td>\n",
       "      <td>239926</td>\n",
       "      <td>John Wick uncovers a path to defeating The Hig...</td>\n",
       "      <td>NaN</td>\n",
       "      <td>Chad Stahelski</td>\n",
       "      <td>NaN</td>\n",
       "      <td>Rain</td>\n",
       "    </tr>\n",
       "    <tr>\n",
       "      <th>3</th>\n",
       "      <td>3</td>\n",
       "      <td>Transformers: Rise of the Beasts</td>\n",
       "      <td>(2023)</td>\n",
       "      <td>Action, Adventure, Sci-Fi</td>\n",
       "      <td>UA</td>\n",
       "      <td>6.3</td>\n",
       "      <td>43176</td>\n",
       "      <td>During the '90s, a new faction of Transformers...</td>\n",
       "      <td>NaN</td>\n",
       "      <td>Steven Caple Jr.</td>\n",
       "      <td>NaN</td>\n",
       "      <td>Rain</td>\n",
       "    </tr>\n",
       "    <tr>\n",
       "      <th>4</th>\n",
       "      <td>4</td>\n",
       "      <td>The Shawshank Redemption</td>\n",
       "      <td>(1994)</td>\n",
       "      <td>Drama</td>\n",
       "      <td>A</td>\n",
       "      <td>9.3</td>\n",
       "      <td>2765336</td>\n",
       "      <td>Over the course of several years, two convicts...</td>\n",
       "      <td>NaN</td>\n",
       "      <td>Frank Darabont</td>\n",
       "      <td>$28.34M</td>\n",
       "      <td>Rain</td>\n",
       "    </tr>\n",
       "  </tbody>\n",
       "</table>\n",
       "</div>"
      ],
      "text/plain": [
       "   Unnamed: 0                                  Title    Year  \\\n",
       "0           0  Indiana Jones and the Dial of Destiny  (2023)   \n",
       "1           1                              The Flash  (2023)   \n",
       "2           2                   John Wick: Chapter 4  (2023)   \n",
       "3           3       Transformers: Rise of the Beasts  (2023)   \n",
       "4           4               The Shawshank Redemption  (1994)   \n",
       "\n",
       "                        Genre Certificate  Rating    Votes  \\\n",
       "0           Action, Adventure          UA     6.9    68799   \n",
       "1  Action, Adventure, Fantasy          UA     7.1    87832   \n",
       "2     Action, Crime, Thriller           A     7.9   239926   \n",
       "3   Action, Adventure, Sci-Fi          UA     6.3    43176   \n",
       "4                       Drama           A     9.3  2765336   \n",
       "\n",
       "                                         Description  Lead          Director  \\\n",
       "0  Archaeologist Indiana Jones races against time...   NaN     James Mangold   \n",
       "1  Barry Allen uses his super speed to change the...   NaN   Andy Muschietti   \n",
       "2  John Wick uncovers a path to defeating The Hig...   NaN    Chad Stahelski   \n",
       "3  During the '90s, a new faction of Transformers...   NaN  Steven Caple Jr.   \n",
       "4  Over the course of several years, two convicts...   NaN    Frank Darabont   \n",
       "\n",
       "     Gross Weather  \n",
       "0      NaN    Rain  \n",
       "1      NaN    Rain  \n",
       "2      NaN    Rain  \n",
       "3      NaN    Rain  \n",
       "4  $28.34M    Rain  "
      ]
     },
     "execution_count": 3,
     "metadata": {},
     "output_type": "execute_result"
    }
   ],
   "source": [
    "df.head(5)"
   ]
  },
  {
   "cell_type": "code",
   "execution_count": 4,
   "id": "6c65029d",
   "metadata": {},
   "outputs": [
    {
     "name": "stdout",
     "output_type": "stream",
     "text": [
      "<class 'pandas.core.frame.DataFrame'>\n",
      "RangeIndex: 32326 entries, 0 to 32325\n",
      "Data columns (total 12 columns):\n",
      " #   Column       Non-Null Count  Dtype  \n",
      "---  ------       --------------  -----  \n",
      " 0   Unnamed: 0   32326 non-null  int64  \n",
      " 1   Title        32326 non-null  object \n",
      " 2   Year         31644 non-null  object \n",
      " 3   Genre        32209 non-null  object \n",
      " 4   Certificate  11954 non-null  object \n",
      " 5   Rating       29866 non-null  float64\n",
      " 6   Votes        29867 non-null  object \n",
      " 7   Description  32326 non-null  object \n",
      " 8   Lead         0 non-null      float64\n",
      " 9   Director     32062 non-null  object \n",
      " 10  Gross        10224 non-null  object \n",
      " 11  Weather      32326 non-null  object \n",
      "dtypes: float64(2), int64(1), object(9)\n",
      "memory usage: 3.0+ MB\n"
     ]
    }
   ],
   "source": [
    "df.info()"
   ]
  },
  {
   "cell_type": "code",
   "execution_count": 5,
   "id": "7afed445",
   "metadata": {},
   "outputs": [
    {
     "data": {
      "text/plain": [
       "(32326, 12)"
      ]
     },
     "execution_count": 5,
     "metadata": {},
     "output_type": "execute_result"
    }
   ],
   "source": [
    "df.shape"
   ]
  },
  {
   "cell_type": "code",
   "execution_count": 6,
   "id": "c31ced25",
   "metadata": {},
   "outputs": [
    {
     "data": {
      "text/plain": [
       "0"
      ]
     },
     "execution_count": 6,
     "metadata": {},
     "output_type": "execute_result"
    }
   ],
   "source": [
    "df.duplicated().sum()"
   ]
  },
  {
   "cell_type": "code",
   "execution_count": 7,
   "id": "57197310",
   "metadata": {},
   "outputs": [
    {
     "data": {
      "text/plain": [
       "Unnamed: 0         0\n",
       "Title              0\n",
       "Year             682\n",
       "Genre            117\n",
       "Certificate    20372\n",
       "Rating          2460\n",
       "Votes           2459\n",
       "Description        0\n",
       "Lead           32326\n",
       "Director         264\n",
       "Gross          22102\n",
       "Weather            0\n",
       "dtype: int64"
      ]
     },
     "execution_count": 7,
     "metadata": {},
     "output_type": "execute_result"
    }
   ],
   "source": [
    "df.isnull().sum()"
   ]
  },
  {
   "cell_type": "code",
   "execution_count": 8,
   "id": "7f375005",
   "metadata": {},
   "outputs": [
    {
     "data": {
      "text/plain": [
       "object     9\n",
       "float64    2\n",
       "int64      1\n",
       "dtype: int64"
      ]
     },
     "execution_count": 8,
     "metadata": {},
     "output_type": "execute_result"
    }
   ],
   "source": [
    "df.dtypes.value_counts()"
   ]
  },
  {
   "cell_type": "code",
   "execution_count": 9,
   "id": "67223776",
   "metadata": {},
   "outputs": [],
   "source": [
    "# lead column are null and in certificate column maximum item are missing so we dropped both\n",
    "df.drop(['Lead', 'Certificate'], axis = 1, inplace = True)"
   ]
  },
  {
   "cell_type": "code",
   "execution_count": 10,
   "id": "83d43006",
   "metadata": {},
   "outputs": [],
   "source": [
    "df.drop(['Unnamed: 0'], axis = 1, inplace = True)"
   ]
  },
  {
   "cell_type": "code",
   "execution_count": 11,
   "id": "e035568a",
   "metadata": {},
   "outputs": [
    {
     "data": {
      "text/html": [
       "<div>\n",
       "<style scoped>\n",
       "    .dataframe tbody tr th:only-of-type {\n",
       "        vertical-align: middle;\n",
       "    }\n",
       "\n",
       "    .dataframe tbody tr th {\n",
       "        vertical-align: top;\n",
       "    }\n",
       "\n",
       "    .dataframe thead th {\n",
       "        text-align: right;\n",
       "    }\n",
       "</style>\n",
       "<table border=\"1\" class=\"dataframe\">\n",
       "  <thead>\n",
       "    <tr style=\"text-align: right;\">\n",
       "      <th></th>\n",
       "      <th>Title</th>\n",
       "      <th>Year</th>\n",
       "      <th>Genre</th>\n",
       "      <th>Rating</th>\n",
       "      <th>Votes</th>\n",
       "      <th>Description</th>\n",
       "      <th>Director</th>\n",
       "      <th>Gross</th>\n",
       "      <th>Weather</th>\n",
       "    </tr>\n",
       "  </thead>\n",
       "  <tbody>\n",
       "    <tr>\n",
       "      <th>0</th>\n",
       "      <td>Indiana Jones and the Dial of Destiny</td>\n",
       "      <td>(2023)</td>\n",
       "      <td>Action, Adventure</td>\n",
       "      <td>6.9</td>\n",
       "      <td>68799</td>\n",
       "      <td>Archaeologist Indiana Jones races against time...</td>\n",
       "      <td>James Mangold</td>\n",
       "      <td>NaN</td>\n",
       "      <td>Rain</td>\n",
       "    </tr>\n",
       "    <tr>\n",
       "      <th>1</th>\n",
       "      <td>The Flash</td>\n",
       "      <td>(2023)</td>\n",
       "      <td>Action, Adventure, Fantasy</td>\n",
       "      <td>7.1</td>\n",
       "      <td>87832</td>\n",
       "      <td>Barry Allen uses his super speed to change the...</td>\n",
       "      <td>Andy Muschietti</td>\n",
       "      <td>NaN</td>\n",
       "      <td>Rain</td>\n",
       "    </tr>\n",
       "    <tr>\n",
       "      <th>2</th>\n",
       "      <td>John Wick: Chapter 4</td>\n",
       "      <td>(2023)</td>\n",
       "      <td>Action, Crime, Thriller</td>\n",
       "      <td>7.9</td>\n",
       "      <td>239926</td>\n",
       "      <td>John Wick uncovers a path to defeating The Hig...</td>\n",
       "      <td>Chad Stahelski</td>\n",
       "      <td>NaN</td>\n",
       "      <td>Rain</td>\n",
       "    </tr>\n",
       "    <tr>\n",
       "      <th>3</th>\n",
       "      <td>Transformers: Rise of the Beasts</td>\n",
       "      <td>(2023)</td>\n",
       "      <td>Action, Adventure, Sci-Fi</td>\n",
       "      <td>6.3</td>\n",
       "      <td>43176</td>\n",
       "      <td>During the '90s, a new faction of Transformers...</td>\n",
       "      <td>Steven Caple Jr.</td>\n",
       "      <td>NaN</td>\n",
       "      <td>Rain</td>\n",
       "    </tr>\n",
       "    <tr>\n",
       "      <th>4</th>\n",
       "      <td>The Shawshank Redemption</td>\n",
       "      <td>(1994)</td>\n",
       "      <td>Drama</td>\n",
       "      <td>9.3</td>\n",
       "      <td>2765336</td>\n",
       "      <td>Over the course of several years, two convicts...</td>\n",
       "      <td>Frank Darabont</td>\n",
       "      <td>$28.34M</td>\n",
       "      <td>Rain</td>\n",
       "    </tr>\n",
       "  </tbody>\n",
       "</table>\n",
       "</div>"
      ],
      "text/plain": [
       "                                   Title    Year                       Genre  \\\n",
       "0  Indiana Jones and the Dial of Destiny  (2023)           Action, Adventure   \n",
       "1                              The Flash  (2023)  Action, Adventure, Fantasy   \n",
       "2                   John Wick: Chapter 4  (2023)     Action, Crime, Thriller   \n",
       "3       Transformers: Rise of the Beasts  (2023)   Action, Adventure, Sci-Fi   \n",
       "4               The Shawshank Redemption  (1994)                       Drama   \n",
       "\n",
       "   Rating    Votes                                        Description  \\\n",
       "0     6.9    68799  Archaeologist Indiana Jones races against time...   \n",
       "1     7.1    87832  Barry Allen uses his super speed to change the...   \n",
       "2     7.9   239926  John Wick uncovers a path to defeating The Hig...   \n",
       "3     6.3    43176  During the '90s, a new faction of Transformers...   \n",
       "4     9.3  2765336  Over the course of several years, two convicts...   \n",
       "\n",
       "           Director    Gross Weather  \n",
       "0     James Mangold      NaN    Rain  \n",
       "1   Andy Muschietti      NaN    Rain  \n",
       "2    Chad Stahelski      NaN    Rain  \n",
       "3  Steven Caple Jr.      NaN    Rain  \n",
       "4    Frank Darabont  $28.34M    Rain  "
      ]
     },
     "execution_count": 11,
     "metadata": {},
     "output_type": "execute_result"
    }
   ],
   "source": [
    "df.head()"
   ]
  },
  {
   "cell_type": "code",
   "execution_count": 12,
   "id": "3c090c2c",
   "metadata": {},
   "outputs": [],
   "source": [
    "# genre, rating, votes are importent for us so we drop only missing item \n",
    "df.dropna(subset=[\"Genre\", \"Rating\", \"Votes\"], inplace=True)"
   ]
  },
  {
   "cell_type": "code",
   "execution_count": 13,
   "id": "dca401c0",
   "metadata": {},
   "outputs": [
    {
     "data": {
      "text/plain": [
       "Title              0\n",
       "Year               2\n",
       "Genre              0\n",
       "Rating             0\n",
       "Votes              0\n",
       "Description        0\n",
       "Director           4\n",
       "Gross          19591\n",
       "Weather            0\n",
       "dtype: int64"
      ]
     },
     "execution_count": 13,
     "metadata": {},
     "output_type": "execute_result"
    }
   ],
   "source": [
    "df.isnull().sum()"
   ]
  },
  {
   "cell_type": "code",
   "execution_count": 14,
   "id": "50919313",
   "metadata": {},
   "outputs": [
    {
     "data": {
      "text/plain": [
       "(29814, 9)"
      ]
     },
     "execution_count": 14,
     "metadata": {},
     "output_type": "execute_result"
    }
   ],
   "source": [
    "df.shape"
   ]
  },
  {
   "cell_type": "code",
   "execution_count": 15,
   "id": "859f4eac",
   "metadata": {},
   "outputs": [],
   "source": [
    "# drop missing items\n",
    "df.dropna(subset=[\"Director\", \"Year\"], inplace=True)"
   ]
  },
  {
   "cell_type": "code",
   "execution_count": 16,
   "id": "f9ddaa2f",
   "metadata": {},
   "outputs": [
    {
     "data": {
      "text/plain": [
       "0          0\n",
       "1          0\n",
       "2          0\n",
       "3          0\n",
       "4    $28.34M\n",
       "Name: Gross, dtype: object"
      ]
     },
     "execution_count": 16,
     "metadata": {},
     "output_type": "execute_result"
    }
   ],
   "source": [
    "df[\"Gross\"].fillna('0', inplace=True)\n",
    "df[\"Gross\"].head()"
   ]
  },
  {
   "cell_type": "code",
   "execution_count": 17,
   "id": "bfa3da69",
   "metadata": {},
   "outputs": [
    {
     "data": {
      "text/plain": [
       "Title          0\n",
       "Year           0\n",
       "Genre          0\n",
       "Rating         0\n",
       "Votes          0\n",
       "Description    0\n",
       "Director       0\n",
       "Gross          0\n",
       "Weather        0\n",
       "dtype: int64"
      ]
     },
     "execution_count": 17,
     "metadata": {},
     "output_type": "execute_result"
    }
   ],
   "source": [
    "df.isnull().sum()"
   ]
  },
  {
   "cell_type": "code",
   "execution_count": 18,
   "id": "7d0c8785",
   "metadata": {},
   "outputs": [
    {
     "data": {
      "text/plain": [
       "(29808, 9)"
      ]
     },
     "execution_count": 18,
     "metadata": {},
     "output_type": "execute_result"
    }
   ],
   "source": [
    "df.shape"
   ]
  },
  {
   "cell_type": "code",
   "execution_count": 19,
   "id": "05e019a3",
   "metadata": {},
   "outputs": [
    {
     "data": {
      "text/plain": [
       "(29808,)"
      ]
     },
     "execution_count": 19,
     "metadata": {},
     "output_type": "execute_result"
    }
   ],
   "source": [
    "df['Weather'].shape"
   ]
  },
  {
   "cell_type": "code",
   "execution_count": 20,
   "id": "a5fe01c6",
   "metadata": {},
   "outputs": [
    {
     "data": {
      "text/html": [
       "<div>\n",
       "<style scoped>\n",
       "    .dataframe tbody tr th:only-of-type {\n",
       "        vertical-align: middle;\n",
       "    }\n",
       "\n",
       "    .dataframe tbody tr th {\n",
       "        vertical-align: top;\n",
       "    }\n",
       "\n",
       "    .dataframe thead th {\n",
       "        text-align: right;\n",
       "    }\n",
       "</style>\n",
       "<table border=\"1\" class=\"dataframe\">\n",
       "  <thead>\n",
       "    <tr style=\"text-align: right;\">\n",
       "      <th></th>\n",
       "      <th>Title</th>\n",
       "      <th>Year</th>\n",
       "      <th>Genre</th>\n",
       "      <th>Rating</th>\n",
       "      <th>Votes</th>\n",
       "      <th>Description</th>\n",
       "      <th>Director</th>\n",
       "      <th>Gross</th>\n",
       "      <th>Weather</th>\n",
       "    </tr>\n",
       "  </thead>\n",
       "  <tbody>\n",
       "    <tr>\n",
       "      <th>0</th>\n",
       "      <td>Indiana Jones and the Dial of Destiny</td>\n",
       "      <td>(2023)</td>\n",
       "      <td>Action, Adventure</td>\n",
       "      <td>6.9</td>\n",
       "      <td>68799</td>\n",
       "      <td>Archaeologist Indiana Jones races against time...</td>\n",
       "      <td>James Mangold</td>\n",
       "      <td>0</td>\n",
       "      <td>Rain</td>\n",
       "    </tr>\n",
       "    <tr>\n",
       "      <th>1</th>\n",
       "      <td>The Flash</td>\n",
       "      <td>(2023)</td>\n",
       "      <td>Action, Adventure, Fantasy</td>\n",
       "      <td>7.1</td>\n",
       "      <td>87832</td>\n",
       "      <td>Barry Allen uses his super speed to change the...</td>\n",
       "      <td>Andy Muschietti</td>\n",
       "      <td>0</td>\n",
       "      <td>Rain</td>\n",
       "    </tr>\n",
       "    <tr>\n",
       "      <th>2</th>\n",
       "      <td>John Wick: Chapter 4</td>\n",
       "      <td>(2023)</td>\n",
       "      <td>Action, Crime, Thriller</td>\n",
       "      <td>7.9</td>\n",
       "      <td>239926</td>\n",
       "      <td>John Wick uncovers a path to defeating The Hig...</td>\n",
       "      <td>Chad Stahelski</td>\n",
       "      <td>0</td>\n",
       "      <td>Rain</td>\n",
       "    </tr>\n",
       "    <tr>\n",
       "      <th>3</th>\n",
       "      <td>Transformers: Rise of the Beasts</td>\n",
       "      <td>(2023)</td>\n",
       "      <td>Action, Adventure, Sci-Fi</td>\n",
       "      <td>6.3</td>\n",
       "      <td>43176</td>\n",
       "      <td>During the '90s, a new faction of Transformers...</td>\n",
       "      <td>Steven Caple Jr.</td>\n",
       "      <td>0</td>\n",
       "      <td>Rain</td>\n",
       "    </tr>\n",
       "    <tr>\n",
       "      <th>4</th>\n",
       "      <td>The Shawshank Redemption</td>\n",
       "      <td>(1994)</td>\n",
       "      <td>Drama</td>\n",
       "      <td>9.3</td>\n",
       "      <td>2765336</td>\n",
       "      <td>Over the course of several years, two convicts...</td>\n",
       "      <td>Frank Darabont</td>\n",
       "      <td>$28.34M</td>\n",
       "      <td>Rain</td>\n",
       "    </tr>\n",
       "  </tbody>\n",
       "</table>\n",
       "</div>"
      ],
      "text/plain": [
       "                                   Title    Year                       Genre  \\\n",
       "0  Indiana Jones and the Dial of Destiny  (2023)           Action, Adventure   \n",
       "1                              The Flash  (2023)  Action, Adventure, Fantasy   \n",
       "2                   John Wick: Chapter 4  (2023)     Action, Crime, Thriller   \n",
       "3       Transformers: Rise of the Beasts  (2023)   Action, Adventure, Sci-Fi   \n",
       "4               The Shawshank Redemption  (1994)                       Drama   \n",
       "\n",
       "   Rating    Votes                                        Description  \\\n",
       "0     6.9    68799  Archaeologist Indiana Jones races against time...   \n",
       "1     7.1    87832  Barry Allen uses his super speed to change the...   \n",
       "2     7.9   239926  John Wick uncovers a path to defeating The Hig...   \n",
       "3     6.3    43176  During the '90s, a new faction of Transformers...   \n",
       "4     9.3  2765336  Over the course of several years, two convicts...   \n",
       "\n",
       "           Director    Gross Weather  \n",
       "0     James Mangold        0    Rain  \n",
       "1   Andy Muschietti        0    Rain  \n",
       "2    Chad Stahelski        0    Rain  \n",
       "3  Steven Caple Jr.        0    Rain  \n",
       "4    Frank Darabont  $28.34M    Rain  "
      ]
     },
     "execution_count": 20,
     "metadata": {},
     "output_type": "execute_result"
    }
   ],
   "source": [
    "df.head()"
   ]
  },
  {
   "cell_type": "code",
   "execution_count": 21,
   "id": "dd90a3c2",
   "metadata": {},
   "outputs": [],
   "source": [
    "# edit the year column, remove parantheses and extract only value \n",
    "def extract_year(year_str):\n",
    "    match = re.search(r\"\\b(\\d{4})\\b\", year_str)\n",
    "    if match:\n",
    "        year = int(match.group(1))\n",
    "        return pd.to_datetime(str(year), format=\"%Y\").date().year\n",
    "    else:\n",
    "        return None"
   ]
  },
  {
   "cell_type": "code",
   "execution_count": 22,
   "id": "e6d60233",
   "metadata": {},
   "outputs": [],
   "source": [
    "df[\"Year\"] = df[\"Year\"].apply(lambda x: extract_year(str(x).strip(\"()\")) if pd.notnull(x) else None)"
   ]
  },
  {
   "cell_type": "code",
   "execution_count": 23,
   "id": "cf205616",
   "metadata": {},
   "outputs": [
    {
     "data": {
      "text/plain": [
       "Title           object\n",
       "Year             int64\n",
       "Genre           object\n",
       "Rating         float64\n",
       "Votes           object\n",
       "Description     object\n",
       "Director        object\n",
       "Gross           object\n",
       "Weather         object\n",
       "dtype: object"
      ]
     },
     "execution_count": 23,
     "metadata": {},
     "output_type": "execute_result"
    }
   ],
   "source": [
    "df.dtypes"
   ]
  },
  {
   "cell_type": "code",
   "execution_count": 24,
   "id": "3d1ef353",
   "metadata": {},
   "outputs": [
    {
     "data": {
      "text/html": [
       "<div>\n",
       "<style scoped>\n",
       "    .dataframe tbody tr th:only-of-type {\n",
       "        vertical-align: middle;\n",
       "    }\n",
       "\n",
       "    .dataframe tbody tr th {\n",
       "        vertical-align: top;\n",
       "    }\n",
       "\n",
       "    .dataframe thead th {\n",
       "        text-align: right;\n",
       "    }\n",
       "</style>\n",
       "<table border=\"1\" class=\"dataframe\">\n",
       "  <thead>\n",
       "    <tr style=\"text-align: right;\">\n",
       "      <th></th>\n",
       "      <th>Title</th>\n",
       "      <th>Year</th>\n",
       "      <th>Genre</th>\n",
       "      <th>Rating</th>\n",
       "      <th>Votes</th>\n",
       "      <th>Description</th>\n",
       "      <th>Director</th>\n",
       "      <th>Gross</th>\n",
       "      <th>Weather</th>\n",
       "    </tr>\n",
       "  </thead>\n",
       "  <tbody>\n",
       "    <tr>\n",
       "      <th>0</th>\n",
       "      <td>Indiana Jones and the Dial of Destiny</td>\n",
       "      <td>2023</td>\n",
       "      <td>Action, Adventure</td>\n",
       "      <td>6.9</td>\n",
       "      <td>68799</td>\n",
       "      <td>Archaeologist Indiana Jones races against time...</td>\n",
       "      <td>James Mangold</td>\n",
       "      <td>0</td>\n",
       "      <td>Rain</td>\n",
       "    </tr>\n",
       "    <tr>\n",
       "      <th>1</th>\n",
       "      <td>The Flash</td>\n",
       "      <td>2023</td>\n",
       "      <td>Action, Adventure, Fantasy</td>\n",
       "      <td>7.1</td>\n",
       "      <td>87832</td>\n",
       "      <td>Barry Allen uses his super speed to change the...</td>\n",
       "      <td>Andy Muschietti</td>\n",
       "      <td>0</td>\n",
       "      <td>Rain</td>\n",
       "    </tr>\n",
       "    <tr>\n",
       "      <th>2</th>\n",
       "      <td>John Wick: Chapter 4</td>\n",
       "      <td>2023</td>\n",
       "      <td>Action, Crime, Thriller</td>\n",
       "      <td>7.9</td>\n",
       "      <td>239926</td>\n",
       "      <td>John Wick uncovers a path to defeating The Hig...</td>\n",
       "      <td>Chad Stahelski</td>\n",
       "      <td>0</td>\n",
       "      <td>Rain</td>\n",
       "    </tr>\n",
       "  </tbody>\n",
       "</table>\n",
       "</div>"
      ],
      "text/plain": [
       "                                   Title  Year                       Genre  \\\n",
       "0  Indiana Jones and the Dial of Destiny  2023           Action, Adventure   \n",
       "1                              The Flash  2023  Action, Adventure, Fantasy   \n",
       "2                   John Wick: Chapter 4  2023     Action, Crime, Thriller   \n",
       "\n",
       "   Rating   Votes                                        Description  \\\n",
       "0     6.9   68799  Archaeologist Indiana Jones races against time...   \n",
       "1     7.1   87832  Barry Allen uses his super speed to change the...   \n",
       "2     7.9  239926  John Wick uncovers a path to defeating The Hig...   \n",
       "\n",
       "          Director Gross Weather  \n",
       "0    James Mangold     0    Rain  \n",
       "1  Andy Muschietti     0    Rain  \n",
       "2   Chad Stahelski     0    Rain  "
      ]
     },
     "execution_count": 24,
     "metadata": {},
     "output_type": "execute_result"
    }
   ],
   "source": [
    "df.head(3)"
   ]
  },
  {
   "cell_type": "code",
   "execution_count": 25,
   "id": "cb84a4cc",
   "metadata": {},
   "outputs": [],
   "source": [
    "# change the data type of votes from object to int\n",
    "df['Votes'] = df['Votes'].astype(int)"
   ]
  },
  {
   "cell_type": "code",
   "execution_count": 26,
   "id": "ddf9e884",
   "metadata": {},
   "outputs": [
    {
     "data": {
      "text/plain": [
       "Title           object\n",
       "Year             int64\n",
       "Genre           object\n",
       "Rating         float64\n",
       "Votes            int32\n",
       "Description     object\n",
       "Director        object\n",
       "Gross           object\n",
       "Weather         object\n",
       "dtype: object"
      ]
     },
     "execution_count": 26,
     "metadata": {},
     "output_type": "execute_result"
    }
   ],
   "source": [
    "df.dtypes"
   ]
  },
  {
   "cell_type": "code",
   "execution_count": 27,
   "id": "1e056549",
   "metadata": {},
   "outputs": [
    {
     "data": {
      "text/html": [
       "<div>\n",
       "<style scoped>\n",
       "    .dataframe tbody tr th:only-of-type {\n",
       "        vertical-align: middle;\n",
       "    }\n",
       "\n",
       "    .dataframe tbody tr th {\n",
       "        vertical-align: top;\n",
       "    }\n",
       "\n",
       "    .dataframe thead th {\n",
       "        text-align: right;\n",
       "    }\n",
       "</style>\n",
       "<table border=\"1\" class=\"dataframe\">\n",
       "  <thead>\n",
       "    <tr style=\"text-align: right;\">\n",
       "      <th></th>\n",
       "      <th>Title</th>\n",
       "      <th>Year</th>\n",
       "      <th>Genre</th>\n",
       "      <th>Rating</th>\n",
       "      <th>Votes</th>\n",
       "      <th>Description</th>\n",
       "      <th>Director</th>\n",
       "      <th>Gross</th>\n",
       "      <th>Weather</th>\n",
       "    </tr>\n",
       "  </thead>\n",
       "  <tbody>\n",
       "    <tr>\n",
       "      <th>5850</th>\n",
       "      <td>Happî awâ</td>\n",
       "      <td>2015</td>\n",
       "      <td>Drama</td>\n",
       "      <td>7.6</td>\n",
       "      <td>2679</td>\n",
       "      <td>A slow-burning epic chronicling the emotional ...</td>\n",
       "      <td>Ryûsuke Hamaguchi</td>\n",
       "      <td>0</td>\n",
       "      <td>Clouds</td>\n",
       "    </tr>\n",
       "    <tr>\n",
       "      <th>22396</th>\n",
       "      <td>Epic Movie</td>\n",
       "      <td>2007</td>\n",
       "      <td>Adventure, Comedy, Fantasy</td>\n",
       "      <td>2.4</td>\n",
       "      <td>107909</td>\n",
       "      <td>A spoof on previous years' epic movies (The Da...</td>\n",
       "      <td>Jason Friedberg</td>\n",
       "      <td>$39.74M</td>\n",
       "      <td>Snow</td>\n",
       "    </tr>\n",
       "    <tr>\n",
       "      <th>8580</th>\n",
       "      <td>Il cavaliere, la morte e il diavolo</td>\n",
       "      <td>1983</td>\n",
       "      <td>Horror, Mystery</td>\n",
       "      <td>6.3</td>\n",
       "      <td>24</td>\n",
       "      <td>A family of the three fall into a dark and dis...</td>\n",
       "      <td>Beppe Cino</td>\n",
       "      <td>0</td>\n",
       "      <td>Clouds</td>\n",
       "    </tr>\n",
       "    <tr>\n",
       "      <th>22008</th>\n",
       "      <td>Om Abbes</td>\n",
       "      <td>1970</td>\n",
       "      <td>Crime, Drama</td>\n",
       "      <td>8.2</td>\n",
       "      <td>9</td>\n",
       "      <td>Abbes, the best rider of the village, has fall...</td>\n",
       "      <td>Ali Abdelwahab</td>\n",
       "      <td>0</td>\n",
       "      <td>Thunderstorm</td>\n",
       "    </tr>\n",
       "    <tr>\n",
       "      <th>30665</th>\n",
       "      <td>Attila</td>\n",
       "      <td>1954</td>\n",
       "      <td>Biography, Drama, History</td>\n",
       "      <td>5.5</td>\n",
       "      <td>762</td>\n",
       "      <td>Attila, the leader of the barbarian Huns and c...</td>\n",
       "      <td>Pietro Francisci</td>\n",
       "      <td>0</td>\n",
       "      <td>Mist</td>\n",
       "    </tr>\n",
       "  </tbody>\n",
       "</table>\n",
       "</div>"
      ],
      "text/plain": [
       "                                     Title  Year                       Genre  \\\n",
       "5850                             Happî awâ  2015                       Drama   \n",
       "22396                           Epic Movie  2007  Adventure, Comedy, Fantasy   \n",
       "8580   Il cavaliere, la morte e il diavolo  1983             Horror, Mystery   \n",
       "22008                             Om Abbes  1970                Crime, Drama   \n",
       "30665                               Attila  1954   Biography, Drama, History   \n",
       "\n",
       "       Rating   Votes                                        Description  \\\n",
       "5850      7.6    2679  A slow-burning epic chronicling the emotional ...   \n",
       "22396     2.4  107909  A spoof on previous years' epic movies (The Da...   \n",
       "8580      6.3      24  A family of the three fall into a dark and dis...   \n",
       "22008     8.2       9  Abbes, the best rider of the village, has fall...   \n",
       "30665     5.5     762  Attila, the leader of the barbarian Huns and c...   \n",
       "\n",
       "                Director    Gross       Weather  \n",
       "5850   Ryûsuke Hamaguchi        0        Clouds  \n",
       "22396    Jason Friedberg  $39.74M          Snow  \n",
       "8580          Beppe Cino        0        Clouds  \n",
       "22008     Ali Abdelwahab        0  Thunderstorm  \n",
       "30665   Pietro Francisci        0          Mist  "
      ]
     },
     "execution_count": 27,
     "metadata": {},
     "output_type": "execute_result"
    }
   ],
   "source": [
    "df.sample(5)"
   ]
  },
  {
   "cell_type": "code",
   "execution_count": 28,
   "id": "d98780ae",
   "metadata": {},
   "outputs": [
    {
     "name": "stderr",
     "output_type": "stream",
     "text": [
      "C:\\Users\\shivh\\AppData\\Local\\Temp/ipykernel_16080/606821211.py:2: FutureWarning: The default value of regex will change from True to False in a future version. In addition, single character regular expressions will *not* be treated as literal strings when regex=True.\n",
      "  df['Gross'] = df['Gross'].str.replace('$', '')\n"
     ]
    }
   ],
   "source": [
    "# remove the $ and unit value from gross and change type to float\n",
    "df['Gross'] = df['Gross'].str.replace('$', '')\n",
    "df['Gross'] = df['Gross'].str.replace('M', '')"
   ]
  },
  {
   "cell_type": "code",
   "execution_count": 29,
   "id": "6439173e",
   "metadata": {},
   "outputs": [
    {
     "data": {
      "text/html": [
       "<div>\n",
       "<style scoped>\n",
       "    .dataframe tbody tr th:only-of-type {\n",
       "        vertical-align: middle;\n",
       "    }\n",
       "\n",
       "    .dataframe tbody tr th {\n",
       "        vertical-align: top;\n",
       "    }\n",
       "\n",
       "    .dataframe thead th {\n",
       "        text-align: right;\n",
       "    }\n",
       "</style>\n",
       "<table border=\"1\" class=\"dataframe\">\n",
       "  <thead>\n",
       "    <tr style=\"text-align: right;\">\n",
       "      <th></th>\n",
       "      <th>Title</th>\n",
       "      <th>Year</th>\n",
       "      <th>Genre</th>\n",
       "      <th>Rating</th>\n",
       "      <th>Votes</th>\n",
       "      <th>Description</th>\n",
       "      <th>Director</th>\n",
       "      <th>Gross</th>\n",
       "      <th>Weather</th>\n",
       "    </tr>\n",
       "  </thead>\n",
       "  <tbody>\n",
       "    <tr>\n",
       "      <th>31949</th>\n",
       "      <td>Run Sweetheart Run</td>\n",
       "      <td>2022</td>\n",
       "      <td>Horror, Thriller</td>\n",
       "      <td>5.5</td>\n",
       "      <td>6246</td>\n",
       "      <td>After what seems to be an innocent date, Cheri...</td>\n",
       "      <td>Shana Feste</td>\n",
       "      <td>0</td>\n",
       "      <td>Fog</td>\n",
       "    </tr>\n",
       "    <tr>\n",
       "      <th>17627</th>\n",
       "      <td>La ciudad y los perros</td>\n",
       "      <td>1985</td>\n",
       "      <td>Drama</td>\n",
       "      <td>7.4</td>\n",
       "      <td>684</td>\n",
       "      <td>Four angry cadets form an inner circle to beat...</td>\n",
       "      <td>Francisco J. Lombardi</td>\n",
       "      <td>0</td>\n",
       "      <td>Thunderstorm</td>\n",
       "    </tr>\n",
       "    <tr>\n",
       "      <th>31180</th>\n",
       "      <td>Ask the Dust</td>\n",
       "      <td>2006</td>\n",
       "      <td>Drama, Romance</td>\n",
       "      <td>5.7</td>\n",
       "      <td>9920</td>\n",
       "      <td>Mexican beauty Camilla Lopez (Salma Hayek) hop...</td>\n",
       "      <td>Robert Towne</td>\n",
       "      <td>0.74</td>\n",
       "      <td>Fog</td>\n",
       "    </tr>\n",
       "    <tr>\n",
       "      <th>115</th>\n",
       "      <td>Bohemian Rhapsody</td>\n",
       "      <td>2018</td>\n",
       "      <td>Biography, Drama, Music</td>\n",
       "      <td>7.9</td>\n",
       "      <td>559824</td>\n",
       "      <td>The story of the legendary British rock band Q...</td>\n",
       "      <td>Bryan Singer</td>\n",
       "      <td>216.43</td>\n",
       "      <td>Rain</td>\n",
       "    </tr>\n",
       "    <tr>\n",
       "      <th>6182</th>\n",
       "      <td>Nero</td>\n",
       "      <td>1992</td>\n",
       "      <td>Comedy, Crime</td>\n",
       "      <td>6.0</td>\n",
       "      <td>152</td>\n",
       "      <td>Right after she moves in with him, Frederico's...</td>\n",
       "      <td>Giancarlo Soldi</td>\n",
       "      <td>0</td>\n",
       "      <td>Clouds</td>\n",
       "    </tr>\n",
       "  </tbody>\n",
       "</table>\n",
       "</div>"
      ],
      "text/plain": [
       "                        Title  Year                    Genre  Rating   Votes  \\\n",
       "31949      Run Sweetheart Run  2022         Horror, Thriller     5.5    6246   \n",
       "17627  La ciudad y los perros  1985                    Drama     7.4     684   \n",
       "31180            Ask the Dust  2006           Drama, Romance     5.7    9920   \n",
       "115         Bohemian Rhapsody  2018  Biography, Drama, Music     7.9  559824   \n",
       "6182                     Nero  1992            Comedy, Crime     6.0     152   \n",
       "\n",
       "                                             Description  \\\n",
       "31949  After what seems to be an innocent date, Cheri...   \n",
       "17627  Four angry cadets form an inner circle to beat...   \n",
       "31180  Mexican beauty Camilla Lopez (Salma Hayek) hop...   \n",
       "115    The story of the legendary British rock band Q...   \n",
       "6182   Right after she moves in with him, Frederico's...   \n",
       "\n",
       "                    Director   Gross       Weather  \n",
       "31949            Shana Feste       0           Fog  \n",
       "17627  Francisco J. Lombardi       0  Thunderstorm  \n",
       "31180           Robert Towne    0.74           Fog  \n",
       "115             Bryan Singer  216.43          Rain  \n",
       "6182         Giancarlo Soldi       0        Clouds  "
      ]
     },
     "execution_count": 29,
     "metadata": {},
     "output_type": "execute_result"
    }
   ],
   "source": [
    "df.sample(5)"
   ]
  },
  {
   "cell_type": "code",
   "execution_count": 30,
   "id": "8310b009",
   "metadata": {},
   "outputs": [],
   "source": [
    "df['Gross'] = df['Gross'].astype(float) * 100000"
   ]
  },
  {
   "cell_type": "code",
   "execution_count": 31,
   "id": "a490efb9",
   "metadata": {},
   "outputs": [
    {
     "data": {
      "text/plain": [
       "Title           object\n",
       "Year             int64\n",
       "Genre           object\n",
       "Rating         float64\n",
       "Votes            int32\n",
       "Description     object\n",
       "Director        object\n",
       "Gross          float64\n",
       "Weather         object\n",
       "dtype: object"
      ]
     },
     "execution_count": 31,
     "metadata": {},
     "output_type": "execute_result"
    }
   ],
   "source": [
    "df.dtypes"
   ]
  },
  {
   "cell_type": "code",
   "execution_count": 32,
   "id": "c9f02d70",
   "metadata": {},
   "outputs": [
    {
     "data": {
      "text/html": [
       "<div>\n",
       "<style scoped>\n",
       "    .dataframe tbody tr th:only-of-type {\n",
       "        vertical-align: middle;\n",
       "    }\n",
       "\n",
       "    .dataframe tbody tr th {\n",
       "        vertical-align: top;\n",
       "    }\n",
       "\n",
       "    .dataframe thead th {\n",
       "        text-align: right;\n",
       "    }\n",
       "</style>\n",
       "<table border=\"1\" class=\"dataframe\">\n",
       "  <thead>\n",
       "    <tr style=\"text-align: right;\">\n",
       "      <th></th>\n",
       "      <th>Title</th>\n",
       "      <th>Year</th>\n",
       "      <th>Genre</th>\n",
       "      <th>Rating</th>\n",
       "      <th>Votes</th>\n",
       "      <th>Description</th>\n",
       "      <th>Director</th>\n",
       "      <th>Gross</th>\n",
       "      <th>Weather</th>\n",
       "    </tr>\n",
       "  </thead>\n",
       "  <tbody>\n",
       "    <tr>\n",
       "      <th>13047</th>\n",
       "      <td>Straight Outta Compton</td>\n",
       "      <td>2015</td>\n",
       "      <td>Biography, Drama, History</td>\n",
       "      <td>7.8</td>\n",
       "      <td>210280</td>\n",
       "      <td>The rap group NWA emerges from the mean street...</td>\n",
       "      <td>F. Gary Gray</td>\n",
       "      <td>16120000.0</td>\n",
       "      <td>Thunderstorm</td>\n",
       "    </tr>\n",
       "    <tr>\n",
       "      <th>10136</th>\n",
       "      <td>A Nightmare on Elm Street 4: The Dream Master</td>\n",
       "      <td>1988</td>\n",
       "      <td>Horror</td>\n",
       "      <td>5.6</td>\n",
       "      <td>58794</td>\n",
       "      <td>Freddy Krueger returns once again to terrorize...</td>\n",
       "      <td>Renny Harlin</td>\n",
       "      <td>4937000.0</td>\n",
       "      <td>Thunderstorm</td>\n",
       "    </tr>\n",
       "    <tr>\n",
       "      <th>2101</th>\n",
       "      <td>Cosi</td>\n",
       "      <td>1996</td>\n",
       "      <td>Comedy, Drama, Music</td>\n",
       "      <td>6.6</td>\n",
       "      <td>2170</td>\n",
       "      <td>Lewis is a young Sydney amateur theater direct...</td>\n",
       "      <td>Mark Joffe</td>\n",
       "      <td>0.0</td>\n",
       "      <td>Rain</td>\n",
       "    </tr>\n",
       "    <tr>\n",
       "      <th>23302</th>\n",
       "      <td>Eddie and the Cruisers II: Eddie Lives!</td>\n",
       "      <td>1989</td>\n",
       "      <td>Drama, Music, Romance</td>\n",
       "      <td>6.2</td>\n",
       "      <td>3143</td>\n",
       "      <td>A Montreal construction worker joins a band an...</td>\n",
       "      <td>Jean-Claude Lord</td>\n",
       "      <td>54000.0</td>\n",
       "      <td>Snow</td>\n",
       "    </tr>\n",
       "    <tr>\n",
       "      <th>14164</th>\n",
       "      <td>Slaughterhouse-Five</td>\n",
       "      <td>1972</td>\n",
       "      <td>Comedy, Drama, Sci-Fi</td>\n",
       "      <td>6.8</td>\n",
       "      <td>13536</td>\n",
       "      <td>Billy Pilgrim has mysteriously become unstuck ...</td>\n",
       "      <td>George Roy Hill</td>\n",
       "      <td>57000.0</td>\n",
       "      <td>Thunderstorm</td>\n",
       "    </tr>\n",
       "  </tbody>\n",
       "</table>\n",
       "</div>"
      ],
      "text/plain": [
       "                                               Title  Year  \\\n",
       "13047                         Straight Outta Compton  2015   \n",
       "10136  A Nightmare on Elm Street 4: The Dream Master  1988   \n",
       "2101                                            Cosi  1996   \n",
       "23302        Eddie and the Cruisers II: Eddie Lives!  1989   \n",
       "14164                            Slaughterhouse-Five  1972   \n",
       "\n",
       "                           Genre  Rating   Votes  \\\n",
       "13047  Biography, Drama, History     7.8  210280   \n",
       "10136                     Horror     5.6   58794   \n",
       "2101        Comedy, Drama, Music     6.6    2170   \n",
       "23302      Drama, Music, Romance     6.2    3143   \n",
       "14164      Comedy, Drama, Sci-Fi     6.8   13536   \n",
       "\n",
       "                                             Description          Director  \\\n",
       "13047  The rap group NWA emerges from the mean street...      F. Gary Gray   \n",
       "10136  Freddy Krueger returns once again to terrorize...      Renny Harlin   \n",
       "2101   Lewis is a young Sydney amateur theater direct...        Mark Joffe   \n",
       "23302  A Montreal construction worker joins a band an...  Jean-Claude Lord   \n",
       "14164  Billy Pilgrim has mysteriously become unstuck ...   George Roy Hill   \n",
       "\n",
       "            Gross       Weather  \n",
       "13047  16120000.0  Thunderstorm  \n",
       "10136   4937000.0  Thunderstorm  \n",
       "2101          0.0          Rain  \n",
       "23302     54000.0          Snow  \n",
       "14164     57000.0  Thunderstorm  "
      ]
     },
     "execution_count": 32,
     "metadata": {},
     "output_type": "execute_result"
    }
   ],
   "source": [
    "df.sample(5)"
   ]
  },
  {
   "cell_type": "code",
   "execution_count": 33,
   "id": "0e3c37a3",
   "metadata": {},
   "outputs": [],
   "source": [
    "# Based on 8 different weather information in the json file in the incoming Weather API\n",
    "# keywords of the created seasons\n",
    "\n",
    "spring_keywords = [\"Rain\", \"Drizzle\", \"Clouds\", \"Fog\"]\n",
    "summer_keywords = [\"Clear\", \"Thunderstorm\", \"Clouds\"]\n",
    "autumn_keywords = [\"Rain\", \"Mist\", \"Drizzle\", \"Fog\", \"Clouds\"]\n",
    "winter_keywords = [\"Snow\", \"Mist\", \"Fog\", \"Clouds\"]"
   ]
  },
  {
   "cell_type": "code",
   "execution_count": 58,
   "id": "7f359ecc",
   "metadata": {},
   "outputs": [
    {
     "data": {
      "text/html": [
       "<div>\n",
       "<style scoped>\n",
       "    .dataframe tbody tr th:only-of-type {\n",
       "        vertical-align: middle;\n",
       "    }\n",
       "\n",
       "    .dataframe tbody tr th {\n",
       "        vertical-align: top;\n",
       "    }\n",
       "\n",
       "    .dataframe thead th {\n",
       "        text-align: right;\n",
       "    }\n",
       "</style>\n",
       "<table border=\"1\" class=\"dataframe\">\n",
       "  <thead>\n",
       "    <tr style=\"text-align: right;\">\n",
       "      <th></th>\n",
       "      <th>Title</th>\n",
       "      <th>Year</th>\n",
       "      <th>Genre</th>\n",
       "      <th>Rating</th>\n",
       "      <th>Votes</th>\n",
       "      <th>Description</th>\n",
       "      <th>Director</th>\n",
       "      <th>Gross</th>\n",
       "      <th>Weather</th>\n",
       "      <th>Season</th>\n",
       "    </tr>\n",
       "  </thead>\n",
       "  <tbody>\n",
       "    <tr>\n",
       "      <th>0</th>\n",
       "      <td>Indiana Jones and the Dial of Destiny</td>\n",
       "      <td>2023</td>\n",
       "      <td>Action, Adventure</td>\n",
       "      <td>6.9</td>\n",
       "      <td>68799</td>\n",
       "      <td>Archaeologist Indiana Jones races against time...</td>\n",
       "      <td>James Mangold</td>\n",
       "      <td>0.0</td>\n",
       "      <td>Rain</td>\n",
       "      <td>Spring</td>\n",
       "    </tr>\n",
       "    <tr>\n",
       "      <th>1</th>\n",
       "      <td>The Flash</td>\n",
       "      <td>2023</td>\n",
       "      <td>Action, Adventure, Fantasy</td>\n",
       "      <td>7.1</td>\n",
       "      <td>87832</td>\n",
       "      <td>Barry Allen uses his super speed to change the...</td>\n",
       "      <td>Andy Muschietti</td>\n",
       "      <td>0.0</td>\n",
       "      <td>Rain</td>\n",
       "      <td>Spring</td>\n",
       "    </tr>\n",
       "    <tr>\n",
       "      <th>2</th>\n",
       "      <td>John Wick: Chapter 4</td>\n",
       "      <td>2023</td>\n",
       "      <td>Action, Crime, Thriller</td>\n",
       "      <td>7.9</td>\n",
       "      <td>239926</td>\n",
       "      <td>John Wick uncovers a path to defeating The Hig...</td>\n",
       "      <td>Chad Stahelski</td>\n",
       "      <td>0.0</td>\n",
       "      <td>Rain</td>\n",
       "      <td>Spring</td>\n",
       "    </tr>\n",
       "    <tr>\n",
       "      <th>3</th>\n",
       "      <td>Transformers: Rise of the Beasts</td>\n",
       "      <td>2023</td>\n",
       "      <td>Action, Adventure, Sci-Fi</td>\n",
       "      <td>6.3</td>\n",
       "      <td>43176</td>\n",
       "      <td>During the '90s, a new faction of Transformers...</td>\n",
       "      <td>Steven Caple Jr.</td>\n",
       "      <td>0.0</td>\n",
       "      <td>Rain</td>\n",
       "      <td>Spring</td>\n",
       "    </tr>\n",
       "    <tr>\n",
       "      <th>4</th>\n",
       "      <td>The Shawshank Redemption</td>\n",
       "      <td>1994</td>\n",
       "      <td>Drama</td>\n",
       "      <td>9.3</td>\n",
       "      <td>2765336</td>\n",
       "      <td>Over the course of several years, two convicts...</td>\n",
       "      <td>Frank Darabont</td>\n",
       "      <td>2834000.0</td>\n",
       "      <td>Rain</td>\n",
       "      <td>Spring</td>\n",
       "    </tr>\n",
       "    <tr>\n",
       "      <th>...</th>\n",
       "      <td>...</td>\n",
       "      <td>...</td>\n",
       "      <td>...</td>\n",
       "      <td>...</td>\n",
       "      <td>...</td>\n",
       "      <td>...</td>\n",
       "      <td>...</td>\n",
       "      <td>...</td>\n",
       "      <td>...</td>\n",
       "      <td>...</td>\n",
       "    </tr>\n",
       "    <tr>\n",
       "      <th>32301</th>\n",
       "      <td>Akela the Alone</td>\n",
       "      <td>2014</td>\n",
       "      <td>Thriller</td>\n",
       "      <td>6.6</td>\n",
       "      <td>11</td>\n",
       "      <td>A loner, whose parents died years ago, lives a...</td>\n",
       "      <td>Abrar</td>\n",
       "      <td>0.0</td>\n",
       "      <td>Fog</td>\n",
       "      <td>Spring</td>\n",
       "    </tr>\n",
       "    <tr>\n",
       "      <th>32303</th>\n",
       "      <td>Gu dao jing hun 2</td>\n",
       "      <td>2013</td>\n",
       "      <td>Drama, Fantasy, Horror</td>\n",
       "      <td>2.3</td>\n",
       "      <td>26</td>\n",
       "      <td>A woman who is having a stay in Bangkok, whose...</td>\n",
       "      <td>Kai-Cheung Chung</td>\n",
       "      <td>0.0</td>\n",
       "      <td>Fog</td>\n",
       "      <td>Spring</td>\n",
       "    </tr>\n",
       "    <tr>\n",
       "      <th>32315</th>\n",
       "      <td>Chelovek, kotoryy molchal</td>\n",
       "      <td>2004</td>\n",
       "      <td>Thriller</td>\n",
       "      <td>5.8</td>\n",
       "      <td>34</td>\n",
       "      <td>Add a Plot</td>\n",
       "      <td>Pavel Ruminov</td>\n",
       "      <td>0.0</td>\n",
       "      <td>Fog</td>\n",
       "      <td>Spring</td>\n",
       "    </tr>\n",
       "    <tr>\n",
       "      <th>32322</th>\n",
       "      <td>Return of the Curse</td>\n",
       "      <td>2006</td>\n",
       "      <td>Horror</td>\n",
       "      <td>1.7</td>\n",
       "      <td>20</td>\n",
       "      <td>A dark independent rooted in the paranormal. T...</td>\n",
       "      <td>Chris Penney</td>\n",
       "      <td>0.0</td>\n",
       "      <td>Fog</td>\n",
       "      <td>Spring</td>\n",
       "    </tr>\n",
       "    <tr>\n",
       "      <th>32323</th>\n",
       "      <td>Lågor i dunklet</td>\n",
       "      <td>1942</td>\n",
       "      <td>Drama, Thriller</td>\n",
       "      <td>6.2</td>\n",
       "      <td>143</td>\n",
       "      <td>In this obvious forerunner to Hets (1944), Sti...</td>\n",
       "      <td>Hasse Ekman</td>\n",
       "      <td>0.0</td>\n",
       "      <td>Fog</td>\n",
       "      <td>Spring</td>\n",
       "    </tr>\n",
       "  </tbody>\n",
       "</table>\n",
       "<p>29808 rows × 10 columns</p>\n",
       "</div>"
      ],
      "text/plain": [
       "                                       Title  Year  \\\n",
       "0      Indiana Jones and the Dial of Destiny  2023   \n",
       "1                                  The Flash  2023   \n",
       "2                       John Wick: Chapter 4  2023   \n",
       "3           Transformers: Rise of the Beasts  2023   \n",
       "4                   The Shawshank Redemption  1994   \n",
       "...                                      ...   ...   \n",
       "32301                        Akela the Alone  2014   \n",
       "32303                      Gu dao jing hun 2  2013   \n",
       "32315              Chelovek, kotoryy molchal  2004   \n",
       "32322                    Return of the Curse  2006   \n",
       "32323                        Lågor i dunklet  1942   \n",
       "\n",
       "                            Genre  Rating    Votes  \\\n",
       "0               Action, Adventure     6.9    68799   \n",
       "1      Action, Adventure, Fantasy     7.1    87832   \n",
       "2         Action, Crime, Thriller     7.9   239926   \n",
       "3       Action, Adventure, Sci-Fi     6.3    43176   \n",
       "4                           Drama     9.3  2765336   \n",
       "...                           ...     ...      ...   \n",
       "32301                    Thriller     6.6       11   \n",
       "32303      Drama, Fantasy, Horror     2.3       26   \n",
       "32315                    Thriller     5.8       34   \n",
       "32322                      Horror     1.7       20   \n",
       "32323             Drama, Thriller     6.2      143   \n",
       "\n",
       "                                             Description          Director  \\\n",
       "0      Archaeologist Indiana Jones races against time...     James Mangold   \n",
       "1      Barry Allen uses his super speed to change the...   Andy Muschietti   \n",
       "2      John Wick uncovers a path to defeating The Hig...    Chad Stahelski   \n",
       "3      During the '90s, a new faction of Transformers...  Steven Caple Jr.   \n",
       "4      Over the course of several years, two convicts...    Frank Darabont   \n",
       "...                                                  ...               ...   \n",
       "32301  A loner, whose parents died years ago, lives a...             Abrar   \n",
       "32303  A woman who is having a stay in Bangkok, whose...  Kai-Cheung Chung   \n",
       "32315                                         Add a Plot     Pavel Ruminov   \n",
       "32322  A dark independent rooted in the paranormal. T...      Chris Penney   \n",
       "32323  In this obvious forerunner to Hets (1944), Sti...       Hasse Ekman   \n",
       "\n",
       "           Gross Weather  Season  \n",
       "0            0.0    Rain  Spring  \n",
       "1            0.0    Rain  Spring  \n",
       "2            0.0    Rain  Spring  \n",
       "3            0.0    Rain  Spring  \n",
       "4      2834000.0    Rain  Spring  \n",
       "...          ...     ...     ...  \n",
       "32301        0.0     Fog  Spring  \n",
       "32303        0.0     Fog  Spring  \n",
       "32315        0.0     Fog  Spring  \n",
       "32322        0.0     Fog  Spring  \n",
       "32323        0.0     Fog  Spring  \n",
       "\n",
       "[29808 rows x 10 columns]"
      ]
     },
     "execution_count": 58,
     "metadata": {},
     "output_type": "execute_result"
    }
   ],
   "source": [
    "\n",
    "\n",
    "def get_season(dataframe, weather_col, season_col, season_list, spring_key, summer_key, autumn_key, winter_key):\n",
    "    \n",
    "    ''' dataframe : related dataframe,\n",
    "        weather_col : weather column,\n",
    "        season_col : assigned season column,\n",
    "        season_list : desired season,\n",
    "        spring_key : spring keyword,\n",
    "        summer_key : summer keyword,\n",
    "        autumn_key : autumn keyword,\n",
    "        winter_key : winter keyword\n",
    "    '''\n",
    "    \n",
    "    conditions = [\n",
    "        dataframe[weather_col].isin(spring_key),\n",
    "        dataframe[weather_col].isin(summer_key),\n",
    "        dataframe[weather_col].isin(autumn_key),\n",
    "        dataframe[weather_col].isin(winter_key)\n",
    "    ]\n",
    "    \n",
    "    choices = [season_list[0:1], season_list[1:2], season_list[2:3], season_list[3:4]]\n",
    "    \n",
    "    dataframe[season_col] = np.select(conditions, choices, default='')\n",
    "    \n",
    "    return dataframe\n",
    "\n",
    "get_season(df, \"Weather\", \"Season\", [\"Spring\", \"Summer\", \"Autumn\", \"Winter\"],\n",
    "            spring_keywords, summer_keywords, autumn_keywords, winter_keywords)\n",
    "\n",
    "\n",
    "# Make sure to replace df, \"Weather\", \"Season\", spring_keywords, summer_keywords, autumn_keywords, and winter_keywords with actual values when calling the function.\n"
   ]
  },
  {
   "cell_type": "code",
   "execution_count": 41,
   "id": "c030429f",
   "metadata": {},
   "outputs": [
    {
     "data": {
      "text/plain": [
       "Thunderstorm    11004\n",
       "Snow             7645\n",
       "Rain             4301\n",
       "Clouds           3446\n",
       "Fog              1231\n",
       "Clear            1110\n",
       "Mist              706\n",
       "Drizzle           365\n",
       "Name: Weather, dtype: int64"
      ]
     },
     "execution_count": 41,
     "metadata": {},
     "output_type": "execute_result"
    }
   ],
   "source": [
    "df['Weather'].value_counts()"
   ]
  },
  {
   "cell_type": "code",
   "execution_count": 60,
   "id": "8f86f37a",
   "metadata": {},
   "outputs": [
    {
     "data": {
      "text/plain": [
       "Summer    12114\n",
       "Spring     9343\n",
       "Winter     7645\n",
       "Autumn      706\n",
       "Name: Season, dtype: int64"
      ]
     },
     "execution_count": 60,
     "metadata": {},
     "output_type": "execute_result"
    }
   ],
   "source": [
    "df['Season'].value_counts()"
   ]
  },
  {
   "cell_type": "code",
   "execution_count": 61,
   "id": "6976fbb5",
   "metadata": {},
   "outputs": [],
   "source": [
    "# we need to best movie whose rating high\n",
    "df_movie = df[df['Rating'] >7.5]"
   ]
  },
  {
   "cell_type": "code",
   "execution_count": 62,
   "id": "918f3bee",
   "metadata": {},
   "outputs": [
    {
     "data": {
      "text/plain": [
       "(3266, 10)"
      ]
     },
     "execution_count": 62,
     "metadata": {},
     "output_type": "execute_result"
    }
   ],
   "source": [
    "df_movie.shape"
   ]
  },
  {
   "cell_type": "code",
   "execution_count": 63,
   "id": "6d1b84e7",
   "metadata": {},
   "outputs": [
    {
     "data": {
      "text/plain": [
       "Season  Weather     \n",
       "Summer  Thunderstorm    912\n",
       "Winter  Snow            852\n",
       "Spring  Rain            570\n",
       "        Clouds          419\n",
       "Summer  Clear           208\n",
       "Spring  Fog             148\n",
       "Autumn  Mist             79\n",
       "Spring  Drizzle          78\n",
       "dtype: int64"
      ]
     },
     "execution_count": 63,
     "metadata": {},
     "output_type": "execute_result"
    }
   ],
   "source": [
    "df_movie[[\"Season\", \"Weather\"]].value_counts()"
   ]
  },
  {
   "cell_type": "code",
   "execution_count": 64,
   "id": "f63be5c3",
   "metadata": {},
   "outputs": [
    {
     "data": {
      "text/plain": [
       "(2623, 10)"
      ]
     },
     "execution_count": 64,
     "metadata": {},
     "output_type": "execute_result"
    }
   ],
   "source": [
    "unnecessary_categories = (\"Documentary\", \"Short\", \"Animation\", \"Reality-TV\",\n",
    "                          \"Game-Show\", \"Game\", \"Music\", \"Talk-Show\")\n",
    "\n",
    "\n",
    "movie_df_ = df_movie[~(df_movie[\"Genre\"].str.startswith(unnecessary_categories))]\n",
    "\n",
    "movie_df_.shape"
   ]
  },
  {
   "cell_type": "code",
   "execution_count": 65,
   "id": "83c42e15",
   "metadata": {},
   "outputs": [
    {
     "data": {
      "text/plain": [
       "Title           object\n",
       "Year             int64\n",
       "Genre           object\n",
       "Rating         float64\n",
       "Votes            int32\n",
       "Description     object\n",
       "Director        object\n",
       "Gross          float64\n",
       "Weather         object\n",
       "Season          object\n",
       "dtype: object"
      ]
     },
     "execution_count": 65,
     "metadata": {},
     "output_type": "execute_result"
    }
   ],
   "source": [
    "movie_df_.dtypes"
   ]
  },
  {
   "cell_type": "code",
   "execution_count": 66,
   "id": "f88ce24b",
   "metadata": {},
   "outputs": [],
   "source": [
    "# we keep only movie which is getting 5000 and above votes\n",
    "movie_df_votes = movie_df_[movie_df_['Votes'] > 5000]"
   ]
  },
  {
   "cell_type": "code",
   "execution_count": 67,
   "id": "3be52a52",
   "metadata": {},
   "outputs": [
    {
     "data": {
      "text/plain": [
       "(1873, 10)"
      ]
     },
     "execution_count": 67,
     "metadata": {},
     "output_type": "execute_result"
    }
   ],
   "source": [
    "movie_df_votes.shape"
   ]
  },
  {
   "cell_type": "code",
   "execution_count": 68,
   "id": "135c4a0f",
   "metadata": {},
   "outputs": [
    {
     "data": {
      "text/plain": [
       "Thunderstorm    533\n",
       "Snow            482\n",
       "Rain            396\n",
       "Clouds          183\n",
       "Fog             110\n",
       "Clear           101\n",
       "Mist             50\n",
       "Drizzle          18\n",
       "Name: Weather, dtype: int64"
      ]
     },
     "execution_count": 68,
     "metadata": {},
     "output_type": "execute_result"
    }
   ],
   "source": [
    "movie_df_votes.Weather.value_counts()"
   ]
  },
  {
   "cell_type": "code",
   "execution_count": 69,
   "id": "971ca4e0",
   "metadata": {},
   "outputs": [],
   "source": [
    "movie_df_votes = movie_df_votes.sort_values(by=\"Rating\", ascending=False)"
   ]
  },
  {
   "cell_type": "code",
   "execution_count": 70,
   "id": "82b595db",
   "metadata": {},
   "outputs": [],
   "source": [
    "movie_df_votes = movie_df_votes.reset_index()"
   ]
  },
  {
   "cell_type": "code",
   "execution_count": 54,
   "id": "aa885638",
   "metadata": {},
   "outputs": [],
   "source": [
    "movie_df_votes.to_csv('imdb_movies.csv')"
   ]
  },
  {
   "cell_type": "code",
   "execution_count": 71,
   "id": "70d9876a",
   "metadata": {},
   "outputs": [
    {
     "data": {
      "text/html": [
       "<div>\n",
       "<style scoped>\n",
       "    .dataframe tbody tr th:only-of-type {\n",
       "        vertical-align: middle;\n",
       "    }\n",
       "\n",
       "    .dataframe tbody tr th {\n",
       "        vertical-align: top;\n",
       "    }\n",
       "\n",
       "    .dataframe thead th {\n",
       "        text-align: right;\n",
       "    }\n",
       "</style>\n",
       "<table border=\"1\" class=\"dataframe\">\n",
       "  <thead>\n",
       "    <tr style=\"text-align: right;\">\n",
       "      <th></th>\n",
       "      <th>index</th>\n",
       "      <th>Title</th>\n",
       "      <th>Year</th>\n",
       "      <th>Genre</th>\n",
       "      <th>Rating</th>\n",
       "      <th>Votes</th>\n",
       "      <th>Description</th>\n",
       "      <th>Director</th>\n",
       "      <th>Gross</th>\n",
       "      <th>Weather</th>\n",
       "      <th>Season</th>\n",
       "    </tr>\n",
       "  </thead>\n",
       "  <tbody>\n",
       "    <tr>\n",
       "      <th>0</th>\n",
       "      <td>4</td>\n",
       "      <td>The Shawshank Redemption</td>\n",
       "      <td>1994</td>\n",
       "      <td>Drama</td>\n",
       "      <td>9.3</td>\n",
       "      <td>2765336</td>\n",
       "      <td>Over the course of several years, two convicts...</td>\n",
       "      <td>Frank Darabont</td>\n",
       "      <td>2834000.0</td>\n",
       "      <td>Rain</td>\n",
       "      <td>Spring</td>\n",
       "    </tr>\n",
       "    <tr>\n",
       "      <th>1</th>\n",
       "      <td>12560</td>\n",
       "      <td>The Shawshank Redemption</td>\n",
       "      <td>1994</td>\n",
       "      <td>Drama</td>\n",
       "      <td>9.3</td>\n",
       "      <td>2765336</td>\n",
       "      <td>Over the course of several years, two convicts...</td>\n",
       "      <td>Frank Darabont</td>\n",
       "      <td>2834000.0</td>\n",
       "      <td>Thunderstorm</td>\n",
       "      <td>Summer</td>\n",
       "    </tr>\n",
       "    <tr>\n",
       "      <th>2</th>\n",
       "      <td>26829</td>\n",
       "      <td>The Godfather</td>\n",
       "      <td>1972</td>\n",
       "      <td>Crime, Drama</td>\n",
       "      <td>9.2</td>\n",
       "      <td>1924588</td>\n",
       "      <td>Don Vito Corleone, head of a mafia family, dec...</td>\n",
       "      <td>Francis Ford Coppola</td>\n",
       "      <td>13497000.0</td>\n",
       "      <td>Snow</td>\n",
       "      <td>Winter</td>\n",
       "    </tr>\n",
       "    <tr>\n",
       "      <th>3</th>\n",
       "      <td>4022</td>\n",
       "      <td>The Godfather</td>\n",
       "      <td>1972</td>\n",
       "      <td>Crime, Drama</td>\n",
       "      <td>9.2</td>\n",
       "      <td>1924556</td>\n",
       "      <td>Don Vito Corleone, head of a mafia family, dec...</td>\n",
       "      <td>Francis Ford Coppola</td>\n",
       "      <td>13497000.0</td>\n",
       "      <td>Rain</td>\n",
       "      <td>Spring</td>\n",
       "    </tr>\n",
       "    <tr>\n",
       "      <th>4</th>\n",
       "      <td>12561</td>\n",
       "      <td>The Godfather</td>\n",
       "      <td>1972</td>\n",
       "      <td>Crime, Drama</td>\n",
       "      <td>9.2</td>\n",
       "      <td>1924556</td>\n",
       "      <td>Don Vito Corleone, head of a mafia family, dec...</td>\n",
       "      <td>Francis Ford Coppola</td>\n",
       "      <td>13497000.0</td>\n",
       "      <td>Thunderstorm</td>\n",
       "      <td>Summer</td>\n",
       "    </tr>\n",
       "  </tbody>\n",
       "</table>\n",
       "</div>"
      ],
      "text/plain": [
       "   index                     Title  Year         Genre  Rating    Votes  \\\n",
       "0      4  The Shawshank Redemption  1994         Drama     9.3  2765336   \n",
       "1  12560  The Shawshank Redemption  1994         Drama     9.3  2765336   \n",
       "2  26829             The Godfather  1972  Crime, Drama     9.2  1924588   \n",
       "3   4022             The Godfather  1972  Crime, Drama     9.2  1924556   \n",
       "4  12561             The Godfather  1972  Crime, Drama     9.2  1924556   \n",
       "\n",
       "                                         Description              Director  \\\n",
       "0  Over the course of several years, two convicts...        Frank Darabont   \n",
       "1  Over the course of several years, two convicts...        Frank Darabont   \n",
       "2  Don Vito Corleone, head of a mafia family, dec...  Francis Ford Coppola   \n",
       "3  Don Vito Corleone, head of a mafia family, dec...  Francis Ford Coppola   \n",
       "4  Don Vito Corleone, head of a mafia family, dec...  Francis Ford Coppola   \n",
       "\n",
       "        Gross       Weather  Season  \n",
       "0   2834000.0          Rain  Spring  \n",
       "1   2834000.0  Thunderstorm  Summer  \n",
       "2  13497000.0          Snow  Winter  \n",
       "3  13497000.0          Rain  Spring  \n",
       "4  13497000.0  Thunderstorm  Summer  "
      ]
     },
     "execution_count": 71,
     "metadata": {},
     "output_type": "execute_result"
    }
   ],
   "source": [
    "movie_df_votes.head()"
   ]
  },
  {
   "cell_type": "code",
   "execution_count": 72,
   "id": "de6690f2",
   "metadata": {},
   "outputs": [
    {
     "data": {
      "text/plain": [
       "(1873, 11)"
      ]
     },
     "execution_count": 72,
     "metadata": {},
     "output_type": "execute_result"
    }
   ],
   "source": [
    "movie_df_votes.shape"
   ]
  },
  {
   "cell_type": "code",
   "execution_count": null,
   "id": "d8b2e630",
   "metadata": {},
   "outputs": [],
   "source": []
  }
 ],
 "metadata": {
  "kernelspec": {
   "display_name": "Python 3 (ipykernel)",
   "language": "python",
   "name": "python3"
  },
  "language_info": {
   "codemirror_mode": {
    "name": "ipython",
    "version": 3
   },
   "file_extension": ".py",
   "mimetype": "text/x-python",
   "name": "python",
   "nbconvert_exporter": "python",
   "pygments_lexer": "ipython3",
   "version": "3.9.7"
  }
 },
 "nbformat": 4,
 "nbformat_minor": 5
}
