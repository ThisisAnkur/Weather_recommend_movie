{
 "cells": [
  {
   "cell_type": "code",
   "execution_count": 1,
   "id": "20a705c3",
   "metadata": {},
   "outputs": [],
   "source": [
    "from bs4 import BeautifulSoup\n",
    "import requests\n",
    "import pandas as pd\n",
    "import numpy as np\n",
    "import re\n",
    "from sklearn.feature_extraction.text import TfidfVectorizer\n",
    "from sklearn.metrics.pairwise import cosine_similarity"
   ]
  },
  {
   "cell_type": "code",
   "execution_count": 2,
   "id": "15945bf7",
   "metadata": {},
   "outputs": [],
   "source": [
    "# poster url  for every movie which is suggested by our model\n",
    "data = pd.read_csv('imdb_movies.csv')"
   ]
  },
  {
   "cell_type": "code",
   "execution_count": 3,
   "id": "09cb843c",
   "metadata": {},
   "outputs": [
    {
     "name": "stdout",
     "output_type": "stream",
     "text": [
      "Enter City:  chhatarpur\n"
     ]
    }
   ],
   "source": [
    "def get_weather(city_name):\n",
    "    api_key = ' '  # add weathermap api key\n",
    "    url = 'http://api.openweathermap.org/geo/1.0/direct?'\n",
    "    response = requests.get(url, params={\"q\": city_name, \"appid\": api_key})\n",
    "    data = response.json()\n",
    "    \n",
    "    if data:\n",
    "        latitude = data[0][\"lat\"]\n",
    "        longitude = data[0][\"lon\"]\n",
    "\n",
    "        base_url = \"https://api.openweathermap.org/data/2.5/weather?\"\n",
    "        complete_url = base_url + f\"lat={latitude}&lon={longitude}&appid={api_key}&units=metric\"\n",
    "        \n",
    "        lat_response = requests.get(complete_url)\n",
    "        weather_data = lat_response.json()\n",
    "    \n",
    "        if \"weather\" in weather_data:\n",
    "                main_info = weather_data[\"weather\"][0][\"main\"]\n",
    "                description = weather_data[\"weather\"][0][\"description\"]\n",
    "                temperature = weather_data[\"main\"][\"temp\"]\n",
    "                humidity = weather_data[\"main\"][\"humidity\"]\n",
    "                pressure = weather_data[\"main\"][\"pressure\"]\n",
    "                wind_speed = weather_data[\"wind\"][\"speed\"]\n",
    "                \n",
    "\n",
    "        else:\n",
    "            print('Weather information not found')\n",
    "            \n",
    "    else:\n",
    "        print('City not Found')\n",
    "        \n",
    "    return main_info\n",
    "city = input(\"Enter City:  \")\n",
    "weather = get_weather(city)\n",
    "\n",
    "\n",
    "def get_movies_by_weather(weather_col, tf_idf_col, weather_variable, num_of_recommend):\n",
    "    \n",
    "    dataframe = data\n",
    "    \n",
    "    filtered_movies = dataframe[(dataframe[weather_col]==weather_variable)]\n",
    "    \n",
    "    num_movies_to_recommend = num_of_recommend\n",
    "    \n",
    "    num_movies_available = len(filtered_movies)\n",
    "    \n",
    "    tfidf = TfidfVectorizer()\n",
    "    tfidf_matrix = tfidf.fit_transform(filtered_movies[tf_idf_col])\n",
    "    \n",
    "    cosine_sim = cosine_similarity(tfidf_matrix, tfidf_matrix)\n",
    "    \n",
    "    random_indices = np.random.choice(num_movies_available, size=num_movies_to_recommend, replace=False)\n",
    "    \n",
    "    movie_indices = cosine_sim[0].argsort()\n",
    "    \n",
    "    top_movies_indices = movie_indices[random_indices][::-1]\n",
    "    \n",
    "    top_movies = filtered_movies.iloc[top_movies_indices]\n",
    "    \n",
    "    top_movies = top_movies.sort_values(\"Rating\", ascending=False).reset_index()\n",
    "    \n",
    "    del top_movies[\"index\"]\n",
    "    \n",
    "    return top_movies[\n",
    "        ['Title', 'Year', 'Genre', 'Description', 'Rating', 'Director', 'Votes', \"Weather\", \"Season\"]\n",
    "    ]\n",
    "\n",
    "def get_movie_poster(api_key, movie_title):\n",
    "    base_url = \"https://api.themoviedb.org/3/search/movie\"\n",
    "    params = {\n",
    "        \"api_key\": api_key,\n",
    "        \"query\": movie_title\n",
    "    }\n",
    "\n",
    "    try:\n",
    "        response = requests.get(base_url, params=params)\n",
    "        response_data = response.json()\n",
    "\n",
    "        if response_data.get(\"results\"):\n",
    "            movie = response_data[\"results\"][0]  # Assuming the first result is the correct movie\n",
    "            poster_path = movie[\"poster_path\"]\n",
    "\n",
    "        \n",
    "            return \"https://image.tmdb.org/t/p/w500/\" + poster_path\n",
    "            \n",
    "        else:\n",
    "            print(\"Movie not found.\")\n",
    "    except requests.RequestException as e:\n",
    "        print(f\"Error: {e}\")\n",
    "        return None\n"
   ]
  },
  {
   "cell_type": "code",
   "execution_count": 10,
   "id": "c3d2fca1",
   "metadata": {},
   "outputs": [],
   "source": [
    "api_key = \" \"   # add tmdb api key\n",
    "recommend_movies= get_movies_by_weather(\"Weather\", \"Description\", weather, 3)\n",
    "\n",
    "# Extract the top 3 movie titles as a list\n",
    "movie_titles = store['Title'].tolist()\n",
    "\n",
    "# Initialize a list to store poster URLs\n",
    "poster_urls = []\n",
    "\n",
    "# Loop through each movie title and fetch its poster URL\n",
    "for title in movie_titles:\n",
    "    poster_url = get_movie_poster(api_key, title)\n",
    "    poster_urls.append(poster_url)\n",
    "\n",
    "# Add the list of poster URLs to the 'Poster URL' column in the 'store' DataFrame\n",
    "recommend_movies['Poster_url'] = poster_urls\n",
    "\n",
    "# Print the 'store' DataFrame containing the top 3 movies with their poster URLs\n",
    "img_url = [recommend_movies['Poster_url'][0], recommend_movies['Poster_url'][1], recommend_movies['Poster_url'][2]] \n"
   ]
  },
  {
   "cell_type": "code",
   "execution_count": 11,
   "id": "f07f3cb8",
   "metadata": {},
   "outputs": [
    {
     "data": {
      "text/plain": [
       "['https://image.tmdb.org/t/p/w500//cP1ElGjBhbZAAqmueXjHDKlSwiP.jpg',\n",
       " 'https://image.tmdb.org/t/p/w500//pj3UCLosqo45geXLGZhmH8GRFAw.jpg',\n",
       " 'https://image.tmdb.org/t/p/w500//7QPeVsr9rcFU9Gl90yg0gTOTpVv.jpg']"
      ]
     },
     "execution_count": 11,
     "metadata": {},
     "output_type": "execute_result"
    }
   ],
   "source": [
    "img_url"
   ]
  }
 ],
 "metadata": {
  "kernelspec": {
   "display_name": "Python 3 (ipykernel)",
   "language": "python",
   "name": "python3"
  },
  "language_info": {
   "codemirror_mode": {
    "name": "ipython",
    "version": 3
   },
   "file_extension": ".py",
   "mimetype": "text/x-python",
   "name": "python",
   "nbconvert_exporter": "python",
   "pygments_lexer": "ipython3",
   "version": "3.9.7"
  }
 },
 "nbformat": 4,
 "nbformat_minor": 5
}
