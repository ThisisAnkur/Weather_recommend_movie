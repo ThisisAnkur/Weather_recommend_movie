{
 "cells": [
  {
   "cell_type": "code",
   "execution_count": 1,
   "id": "0b8ddf32",
   "metadata": {},
   "outputs": [
    {
     "data": {
      "text/plain": [
       "'https://image.tmdb.org/t/p/w500//kyeqWdyUXW608qlYkRqosgbbJyK.jpg'"
      ]
     },
     "execution_count": 1,
     "metadata": {},
     "output_type": "execute_result"
    }
   ],
   "source": [
    "import requests\n",
    "\n",
    "# fetch Url of Movie poster through movie_title from tmdb website\n",
    "\n",
    "def get_movie_poster(api_key, movie_title):\n",
    "    base_url = \"https://api.themoviedb.org/3/search/movie\"\n",
    "    params = {\n",
    "        \"api_key\": api_key,\n",
    "        \"query\": movie_title\n",
    "    }\n",
    "\n",
    "    try:\n",
    "        response = requests.get(base_url, params=params)\n",
    "        response_data = response.json()\n",
    "\n",
    "        if response_data.get(\"results\"):\n",
    "            movie = response_data[\"results\"][0]  # Assuming the first result is the correct movie\n",
    "            poster_path = movie[\"poster_path\"]\n",
    "\n",
    "        \n",
    "            return \"https://image.tmdb.org/t/p/w500/\" + poster_path\n",
    "            \n",
    "        else:\n",
    "            print(\"Movie not found.\")\n",
    "    except requests.RequestException as e:\n",
    "        print(f\"Error: {e}\")\n",
    "\n",
    "api_key = \" \"     # add tmdb api key\n",
    "# Example usage\n",
    "movie_title = \"Avatar\"\n",
    "get_movie_poster(api_key,movie_title)\n"
   ]
  },
  {
   "cell_type": "code",
   "execution_count": null,
   "id": "b4f6c61b",
   "metadata": {},
   "outputs": [],
   "source": []
  }
 ],
 "metadata": {
  "kernelspec": {
   "display_name": "Python 3 (ipykernel)",
   "language": "python",
   "name": "python3"
  },
  "language_info": {
   "codemirror_mode": {
    "name": "ipython",
    "version": 3
   },
   "file_extension": ".py",
   "mimetype": "text/x-python",
   "name": "python",
   "nbconvert_exporter": "python",
   "pygments_lexer": "ipython3",
   "version": "3.9.7"
  }
 },
 "nbformat": 4,
 "nbformat_minor": 5
}
